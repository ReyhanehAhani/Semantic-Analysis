{
  "nbformat": 4,
  "nbformat_minor": 0,
  "metadata": {
    "colab": {
      "provenance": []
    },
    "kernelspec": {
      "name": "python3",
      "display_name": "Python 3"
    },
    "language_info": {
      "name": "python"
    }
  },
  "cells": [
    {
      "cell_type": "code",
      "source": [
        "import torch\n",
        "from torch.utils.data import Dataset, DataLoader\n",
        "from collections import Counter\n",
        "from nltk.tokenize import word_tokenize\n",
        "import numpy as np\n",
        "import random\n",
        "import re\n",
        "import nltk\n",
        "nltk.download('punkt')\n",
        "\n",
        "class SkipGramDataset(Dataset):\n",
        "    def __init__(self, tokens, word_to_ix, negative_sample_size=5, window_size=5):\n",
        "        self.tokens = tokens\n",
        "        self.word_to_ix = word_to_ix\n",
        "        self.vocab_size = len(word_to_ix)\n",
        "        self.negative_sample_size = negative_sample_size\n",
        "        self.window_size = window_size\n",
        "        self.pairs = self.generate_pairs(tokens, window_size)\n",
        "\n",
        "    def generate_pairs(self, tokens, window_size):\n",
        "        pairs = []\n",
        "        for i, token in enumerate(tokens):\n",
        "            for j in range(max(i - window_size, 0), min(i + window_size + 1, len(tokens))):\n",
        "                if i != j:\n",
        "                    pairs.append((self.word_to_ix[token], self.word_to_ix[tokens[j]]))\n",
        "        return pairs\n",
        "\n",
        "    def __len__(self):\n",
        "        return len(self.pairs)\n",
        "\n",
        "    def __getitem__(self, idx):\n",
        "        center, context = self.pairs[idx]\n",
        "        negative_samples = torch.randint(0, self.vocab_size, (self.negative_sample_size,))\n",
        "        return center, context, negative_samples\n",
        "\n",
        "with open('/content/advs.txt', 'r', encoding='utf-8') as file:\n",
        "    text = file.read().lower()\n",
        "text = re.sub(f'[{string.punctuation}]', '', text)\n",
        "tokens = word_tokenize(text)\n",
        "word_freq = Counter(tokens)\n",
        "vocab = {word: i for i, word in enumerate(word_freq)}\n",
        "dataset = SkipGramDataset(tokens, vocab)\n",
        "dataloader = DataLoader(dataset, batch_size=1024, shuffle=True)\n"
      ],
      "metadata": {
        "colab": {
          "base_uri": "https://localhost:8080/"
        },
        "id": "vLcet3tzo0h7",
        "outputId": "ec3e6ca2-57f3-436d-9e79-7e7efcdf5c19"
      },
      "execution_count": 15,
      "outputs": [
        {
          "output_type": "stream",
          "name": "stderr",
          "text": [
            "[nltk_data] Downloading package punkt to /root/nltk_data...\n",
            "[nltk_data]   Package punkt is already up-to-date!\n"
          ]
        }
      ]
    },
    {
      "cell_type": "code",
      "source": [
        "class SkipGramModel(nn.Module):\n",
        "    def __init__(self, vocab_size, embedding_dims):\n",
        "        super(SkipGramModel, self).__init__()\n",
        "        self.embeddings = nn.Embedding(vocab_size, embedding_dims)\n",
        "        self.context_embeddings = nn.Embedding(vocab_size, embedding_dims)\n",
        "\n",
        "    def forward(self, center, context, negative_samples):\n",
        "        center_embed = self.embeddings(center)\n",
        "        context_embed = self.context_embeddings(context)\n",
        "        negative_embed = self.context_embeddings(negative_samples)\n",
        "\n",
        "        positive_score = torch.bmm(center_embed.unsqueeze(1), context_embed.unsqueeze(2)).squeeze()\n",
        "        negative_score = torch.bmm(negative_embed, center_embed.unsqueeze(2)).squeeze()\n",
        "\n",
        "        positive_loss = -torch.log(torch.sigmoid(positive_score) + 1e-9)\n",
        "        negative_loss = -torch.sum(torch.log(torch.sigmoid(-negative_score) + 1e-9), dim=1)\n",
        "\n",
        "        return (positive_loss + negative_loss).mean()\n"
      ],
      "metadata": {
        "id": "0DpoXYqApb7L"
      },
      "execution_count": 16,
      "outputs": []
    },
    {
      "cell_type": "code",
      "source": [
        "device = torch.device(\"cuda\" if torch.cuda.is_available() else \"cpu\")\n",
        "embedding_dims = 300\n",
        "vocab_size = len(vocab)\n",
        "model = SkipGramModel(vocab_size, embedding_dims).to(device)\n",
        "optimizer = optim.Adam(model.parameters(), lr=0.005)\n",
        "\n",
        "model.train()\n",
        "epochs = 30\n",
        "for epoch in range(epochs):\n",
        "    total_loss = 0\n",
        "    for center, context, negative_samples in dataloader:\n",
        "        center, context, negative_samples = center.to(device), context.to(device), negative_samples.to(device)\n",
        "\n",
        "        optimizer.zero_grad()\n",
        "        loss = model(center, context, negative_samples)\n",
        "        loss.backward()\n",
        "        optimizer.step()\n",
        "\n",
        "        total_loss += loss.item()\n",
        "\n",
        "    print(f\"Epoch {epoch+1}, Loss: {total_loss / len(dataloader)}\")\n"
      ],
      "metadata": {
        "colab": {
          "base_uri": "https://localhost:8080/"
        },
        "id": "Sl0QOVuGpdI1",
        "outputId": "95cdd5b9-3fb4-4016-c083-a460e51f04db"
      },
      "execution_count": 22,
      "outputs": [
        {
          "output_type": "stream",
          "name": "stdout",
          "text": [
            "Epoch 1, Loss: 6.9325348248453755\n",
            "Epoch 2, Loss: 1.922452527716202\n",
            "Epoch 3, Loss: 1.4537715150185526\n",
            "Epoch 4, Loss: 1.2577840696342304\n",
            "Epoch 5, Loss: 1.174363582334873\n",
            "Epoch 6, Loss: 1.1265566641220608\n",
            "Epoch 7, Loss: 1.09666593305752\n",
            "Epoch 8, Loss: 1.0673847446936218\n",
            "Epoch 9, Loss: 1.0493195338025252\n",
            "Epoch 10, Loss: 1.03295322103743\n",
            "Epoch 11, Loss: 1.0207626981744562\n",
            "Epoch 12, Loss: 1.0094034178382962\n",
            "Epoch 13, Loss: 1.0008910657608345\n",
            "Epoch 14, Loss: 0.9949054019908382\n",
            "Epoch 15, Loss: 0.9894118854327678\n",
            "Epoch 16, Loss: 0.9860146573495026\n",
            "Epoch 17, Loss: 0.9821805401091006\n",
            "Epoch 18, Loss: 0.9788574726264304\n",
            "Epoch 19, Loss: 0.9798148177024669\n",
            "Epoch 20, Loss: 0.9754166712149716\n",
            "Epoch 21, Loss: 0.9723657136910582\n",
            "Epoch 22, Loss: 0.9714847095091982\n",
            "Epoch 23, Loss: 0.9689834684191851\n",
            "Epoch 24, Loss: 0.9698956872968991\n",
            "Epoch 25, Loss: 0.9667698285467704\n",
            "Epoch 26, Loss: 0.9660160680922977\n",
            "Epoch 27, Loss: 0.9653788393257648\n",
            "Epoch 28, Loss: 0.9635216787369983\n",
            "Epoch 29, Loss: 0.9660779353223902\n",
            "Epoch 30, Loss: 0.9643084748033908\n"
          ]
        }
      ]
    },
    {
      "cell_type": "code",
      "source": [
        "def get_embedding(word, model, word_to_ix):\n",
        "    index = torch.tensor([word_to_ix[word]], device=device)\n",
        "    return model.embeddings(index).squeeze().detach()\n",
        "\n",
        "def dot_product_similarity(a, b):\n",
        "    return torch.dot(a, b)\n",
        "\n",
        "king_vec = get_embedding('king', model, vocab)\n",
        "man_vec = get_embedding('man', model, vocab)\n",
        "woman_vec = get_embedding('woman', model, vocab)\n",
        "queen_vec = get_embedding('queen', model, vocab)\n",
        "\n",
        "result_vec = king_vec - man_vec + woman_vec\n",
        "\n",
        "similarity = dot_product_similarity(result_vec, queen_vec)\n",
        "print(f\"Dot product similarity with 'queen': {similarity.item()}\")"
      ],
      "metadata": {
        "colab": {
          "base_uri": "https://localhost:8080/"
        },
        "id": "prbg3NJ5E0uV",
        "outputId": "460202e4-88ad-4506-ea9b-52b8fe5904bc"
      },
      "execution_count": 24,
      "outputs": [
        {
          "output_type": "stream",
          "name": "stdout",
          "text": [
            "Dot product similarity with 'queen': 30.869813919067383\n"
          ]
        }
      ]
    },
    {
      "cell_type": "code",
      "source": [
        "similarity_scores = {}\n",
        "for word, idx in vocab.items():\n",
        "    if word in ['king', 'man', 'woman', 'queen']: continue  # Skip the words used in the analogy\n",
        "    other_vec = get_embedding(word, model, vocab).squeeze()\n",
        "    similarity_scores[word] = dot_product_similarity(result_vec, other_vec).item()\n",
        "\n",
        "sorted_similarities = sorted(similarity_scores.items(), key=lambda x: x[1], reverse=True)\n",
        "print(\"Top 10 similar words to 'king - man + woman':\")\n",
        "for word, score in sorted_similarities[:10]:\n",
        "    print(f\"{word}: {score}\")\n"
      ],
      "metadata": {
        "id": "PfZ3W37iKJIT",
        "outputId": "ebe2a499-2857-4f1a-862b-412909583249",
        "colab": {
          "base_uri": "https://localhost:8080/"
        }
      },
      "execution_count": 25,
      "outputs": [
        {
          "output_type": "stream",
          "name": "stdout",
          "text": [
            "Top 10 similar words to 'king - man + woman':\n",
            "unravelling: 56.804195404052734\n",
            "denying: 56.799461364746094\n",
            "womanoh: 56.29860305786133\n",
            "bodes: 56.25878143310547\n",
            "grand: 55.94200134277344\n",
            "stevenson: 55.15856170654297\n",
            "proposition: 54.86300277709961\n",
            "hoarsely: 53.66973876953125\n",
            "amazement: 53.335914611816406\n",
            "rejoin: 53.324527740478516\n"
          ]
        }
      ]
    },
    {
      "cell_type": "markdown",
      "source": [
        "Modified Model"
      ],
      "metadata": {
        "id": "ZtHyxeoTX7cH"
      }
    },
    {
      "cell_type": "code",
      "source": [
        "import torch\n",
        "import torch.nn as nn\n",
        "import torch.optim as optim\n",
        "\n",
        "class SkipGramModelEnhanced(nn.Module):\n",
        "    def __init__(self, vocab_size, embedding_dims):\n",
        "        super(SkipGramModelEnhanced, self).__init__()\n",
        "        self.embeddings = nn.Embedding(vocab_size, embedding_dims)\n",
        "        self.context_embeddings = nn.Embedding(vocab_size, embedding_dims)\n",
        "        self.linear = nn.Linear(embedding_dims, embedding_dims, bias=False)\n",
        "\n",
        "    def forward(self, center, context, negative_samples):\n",
        "        center_embed = self.embeddings(center)\n",
        "        context_embed = self.context_embeddings(context)\n",
        "        negative_embed = self.context_embeddings(negative_samples)\n",
        "\n",
        "        center_embed = torch.relu(self.linear(center_embed))\n",
        "        context_embed = torch.relu(self.linear(context_embed))\n",
        "        negative_embed = torch.relu(self.linear(negative_embed))\n",
        "\n",
        "        positive_score = torch.bmm(center_embed.unsqueeze(1), context_embed.unsqueeze(2)).squeeze()\n",
        "        negative_score = torch.bmm(negative_embed, center_embed.unsqueeze(2)).squeeze()\n",
        "\n",
        "        positive_loss = -torch.log(torch.sigmoid(positive_score) + 1e-9)\n",
        "        negative_loss = -torch.sum(torch.log(torch.sigmoid(-negative_score) + 1e-9), dim=1)\n",
        "\n",
        "        return (positive_loss + negative_loss).mean()"
      ],
      "metadata": {
        "id": "usEmWTRnLfT5"
      },
      "execution_count": 27,
      "outputs": []
    },
    {
      "cell_type": "code",
      "source": [
        "device = torch.device(\"cuda\" if torch.cuda.is_available() else \"cpu\")\n",
        "embedding_dims = 200\n",
        "vocab_size = len(vocab)\n",
        "model = SkipGramModelEnhanced(vocab_size, embedding_dims).to(device)\n",
        "optimizer = optim.Adam(model.parameters(), lr=0.005)\n",
        "\n",
        "model.train()\n",
        "epochs = 30\n",
        "for epoch in range(epochs):\n",
        "    total_loss = 0\n",
        "    for center, context, negative_samples in dataloader:  # Ensure dataloader is defined as before\n",
        "        center, context, negative_samples = center.to(device), context.to(device), negative_samples.to(device)\n",
        "\n",
        "        optimizer.zero_grad()\n",
        "        loss = model(center, context, negative_samples)\n",
        "        loss.backward()\n",
        "        optimizer.step()\n",
        "\n",
        "        total_loss += loss.item()\n",
        "\n",
        "    print(f\"Epoch {epoch+1}, Loss: {total_loss / len(dataloader)}\")"
      ],
      "metadata": {
        "id": "oZnfogtpLgod",
        "outputId": "98230e11-f936-4c04-9e14-22be685948c9",
        "colab": {
          "base_uri": "https://localhost:8080/"
        }
      },
      "execution_count": 28,
      "outputs": [
        {
          "output_type": "stream",
          "name": "stdout",
          "text": [
            "Epoch 1, Loss: 4.2371718650228125\n",
            "Epoch 2, Loss: 3.917842842128179\n",
            "Epoch 3, Loss: 3.903478750977264\n",
            "Epoch 4, Loss: 3.900227931614258\n",
            "Epoch 5, Loss: 3.8972263630122352\n",
            "Epoch 6, Loss: 3.8956638418298413\n",
            "Epoch 7, Loss: 3.895285958179989\n",
            "Epoch 8, Loss: 3.8951068815653103\n",
            "Epoch 9, Loss: 3.8930714408012284\n",
            "Epoch 10, Loss: 3.893043732689785\n",
            "Epoch 11, Loss: 3.8921116665151487\n",
            "Epoch 12, Loss: 3.8926752469777592\n",
            "Epoch 13, Loss: 3.8921729820815085\n",
            "Epoch 14, Loss: 3.8913062388649657\n",
            "Epoch 15, Loss: 3.8915063264085354\n",
            "Epoch 16, Loss: 3.891020587279139\n",
            "Epoch 17, Loss: 3.890424474344795\n",
            "Epoch 18, Loss: 3.8913545102289278\n",
            "Epoch 19, Loss: 3.890477205442589\n",
            "Epoch 20, Loss: 3.890321330548266\n",
            "Epoch 21, Loss: 3.889993067823511\n",
            "Epoch 22, Loss: 3.8893055274295247\n",
            "Epoch 23, Loss: 3.890253669361779\n",
            "Epoch 24, Loss: 3.8899526206481245\n",
            "Epoch 25, Loss: 3.8896628949506877\n",
            "Epoch 26, Loss: 3.8895890701073723\n",
            "Epoch 27, Loss: 3.88970651318649\n",
            "Epoch 28, Loss: 3.8893710577791216\n",
            "Epoch 29, Loss: 3.890175323896912\n",
            "Epoch 30, Loss: 3.8893655442911585\n"
          ]
        }
      ]
    },
    {
      "cell_type": "code",
      "source": [
        "def get_embedding(word, model, word_to_ix):\n",
        "    index = torch.tensor([word_to_ix[word]], device=device)\n",
        "    return model.embeddings(index).squeeze().detach()\n",
        "\n",
        "def dot_product_similarity(a, b):\n",
        "    return torch.dot(a, b)\n",
        "\n",
        "king_vec = get_embedding('king', model, vocab)\n",
        "man_vec = get_embedding('man', model, vocab)\n",
        "woman_vec = get_embedding('woman', model, vocab)\n",
        "queen_vec = get_embedding('queen', model, vocab)\n",
        "\n",
        "result_vec = king_vec - man_vec + woman_vec\n",
        "\n",
        "similarity = dot_product_similarity(result_vec, queen_vec)\n",
        "print(f\"Dot product similarity with 'queen': {similarity.item()}\")"
      ],
      "metadata": {
        "id": "TjMm9Nr6MhKu",
        "outputId": "f535efd4-d057-412b-9e83-bb73d891f653",
        "colab": {
          "base_uri": "https://localhost:8080/"
        }
      },
      "execution_count": 30,
      "outputs": [
        {
          "output_type": "stream",
          "name": "stdout",
          "text": [
            "Dot product similarity with 'queen': 119.6663589477539\n"
          ]
        }
      ]
    },
    {
      "cell_type": "code",
      "source": [
        "import torch\n",
        "from sklearn.decomposition import PCA\n",
        "import matplotlib.pyplot as plt\n",
        "import numpy as np\n",
        "\n",
        "def get_embedding(word, model, word_to_ix):\n",
        "    index = torch.tensor([word_to_ix[word]], device=device)\n",
        "    return model.embeddings(index).squeeze().detach().cpu().numpy()\n",
        "\n",
        "words = ['brother', 'sister', 'uncle', 'aunt']\n",
        "embeddings = np.array([get_embedding(word, model, vocab) for word in words])\n",
        "\n",
        "pca = PCA(n_components=2)\n",
        "reduced_embeddings = pca.fit_transform(embeddings)\n",
        "word_to_pca = {word: reduced_embeddings[i] for i, word in enumerate(words)}"
      ],
      "metadata": {
        "id": "Q4yUMlO2Xd5-"
      },
      "execution_count": 34,
      "outputs": []
    },
    {
      "cell_type": "code",
      "source": [
        "vectors_to_visualize = {\n",
        "    'brother - sister': word_to_pca['brother'] - word_to_pca['sister'],\n",
        "    'uncle - aunt': word_to_pca['uncle'] - word_to_pca['aunt']\n",
        "}\n",
        "\n",
        "plt.figure(figsize=(10, 8))\n",
        "\n",
        "for word, (x, y) in word_to_pca.items():\n",
        "    plt.scatter(x, y, label=f'{word} ({x:.2f}, {y:.2f})')\n",
        "    plt.text(x + 0.02, y + 0.02, word)\n",
        "\n",
        "for label, vec in vectors_to_visualize.items():\n",
        "    plt.quiver(0, 0, vec[0], vec[1], scale=1, scale_units='xy', angles='xy', label=label)\n",
        "\n",
        "plt.axhline(0, color='grey', lw=1)\n",
        "plt.axvline(0, color='grey', lw=1)\n",
        "plt.grid(True)\n",
        "plt.xlabel(\"PCA Component 1\")\n",
        "plt.ylabel(\"PCA Component 2\")\n",
        "plt.title(\"Word Embeddings PCA Reduction and Difference Vectors\")\n",
        "plt.legend()\n",
        "plt.show()"
      ],
      "metadata": {
        "id": "gF0L2cbnY1Te",
        "outputId": "48e96cea-49f0-416e-8e70-976f05a5ee57",
        "colab": {
          "base_uri": "https://localhost:8080/",
          "height": 534
        }
      },
      "execution_count": 35,
      "outputs": [
        {
          "output_type": "display_data",
          "data": {
            "text/plain": [
              "<Figure size 1000x800 with 1 Axes>"
            ],
            "image/png": "[encoded data removed]"
          },
          "metadata": {}
        }
      ]
    }
  ]
}