{
  "cells": [
    {
      "cell_type": "code",
      "execution_count": 7,
      "metadata": {
        "id": "pf0iG0rDApJf"
      },
      "outputs": [],
      "source": [
        "import numpy as np\n",
        "import re\n",
        "import io\n",
        "from tensorflow.keras.preprocessing.text import Tokenizer\n",
        "from tensorflow.keras.preprocessing.sequence import skipgrams\n",
        "from tensorflow.keras.models import Model\n",
        "from tensorflow.keras.layers import Embedding, Input, Dot, Dense, Flatten\n",
        "from tensorflow.keras.optimizers import Adam\n",
        "\n",
        "def load_and_preprocess_data(file_path):\n",
        "    text = io.open(file_path, encoding='UTF-8').read().lower()\n",
        "    text = re.sub(r'[^\\w\\s]', '', text)  \n",
        "    text = re.sub(r'\\d', '', text)  \n",
        "    text = re.sub(r'\\s+', ' ', text)  \n",
        "    return text\n",
        "\n",
        "text = load_and_preprocess_data('/content/advs.txt')\n",
        "\n",
        "tokenizer = Tokenizer()\n",
        "tokenizer.fit_on_texts([text])\n",
        "sequences = tokenizer.texts_to_sequences([text])\n",
        "sequences = [item for sublist in sequences for item in sublist]  \n",
        "vocab_size = len(tokenizer.word_index) + 1"
      ]
    },
    {
      "cell_type": "code",
      "execution_count": 2,
      "metadata": {
        "colab": {
          "base_uri": "https://localhost:8080/"
        },
        "id": "9EiBF0wuAxrm",
        "outputId": "b8a2cb17-37dc-4280-9d6e-a40a59e0c92a"
      },
      "outputs": [
        {
          "name": "stdout",
          "output_type": "stream",
          "text": [
            "Model: \"model\"\n",
            "__________________________________________________________________________________________________\n",
            " Layer (type)                Output Shape                 Param #   Connected to                  \n",
            "==================================================================================================\n",
            " target_input (InputLayer)   [(None, 1)]                  0         []                            \n",
            "                                                                                                  \n",
            " context_input (InputLayer)  [(None, 1)]                  0         []                            \n",
            "                                                                                                  \n",
            " target_embedding (Embeddin  (None, 1, 100)               833900    ['target_input[0][0]']        \n",
            " g)                                                                                               \n",
            "                                                                                                  \n",
            " context_embedding (Embeddi  (None, 1, 100)               833900    ['context_input[0][0]']       \n",
            " ng)                                                                                              \n",
            "                                                                                                  \n",
            " flatten_target (Flatten)    (None, 100)                  0         ['target_embedding[0][0]']    \n",
            "                                                                                                  \n",
            " flatten_context (Flatten)   (None, 100)                  0         ['context_embedding[0][0]']   \n",
            "                                                                                                  \n",
            " dot_product (Dot)           (None, 1)                    0         ['flatten_target[0][0]',      \n",
            "                                                                     'flatten_context[0][0]']     \n",
            "                                                                                                  \n",
            " output (Dense)              (None, 1)                    2         ['dot_product[0][0]']         \n",
            "                                                                                                  \n",
            "==================================================================================================\n",
            "Total params: 1667802 (6.36 MB)\n",
            "Trainable params: 1667802 (6.36 MB)\n",
            "Non-trainable params: 0 (0.00 Byte)\n",
            "__________________________________________________________________________________________________\n"
          ]
        }
      ],
      "source": [
        "from tensorflow.keras.models import Model\n",
        "from tensorflow.keras.layers import Embedding, Input, Dot, Dense, Flatten, Reshape\n",
        "from tensorflow.keras.optimizers import Adam\n",
        "\n",
        "vocab_size = len(tokenizer.word_index) + 1 \n",
        "embedding_dim = 100\n",
        "\n",
        "t\n",
        "input_target = Input(shape=(1,), name='target_input')\n",
        "input_context = Input(shape=(1,), name='context_input')\n",
        "\n",
        "target_embedding = Embedding(input_dim=vocab_size, output_dim=embedding_dim, input_length=1, name='target_embedding')(input_target)\n",
        "target_embedding = Flatten(name='flatten_target')(target_embedding)\n",
        "\n",
        "context_embedding = Embedding(input_dim=vocab_size, output_dim=embedding_dim, input_length=1, name='context_embedding')(input_context)\n",
        "context_embedding = Flatten(name='flatten_context')(context_embedding)\n",
        "\n",
        "dot_product = Dot(axes=-1, name='dot_product')([target_embedding, context_embedding])\n",
        "output = Dense(1, activation='sigmoid', name='output')(dot_product)\n",
        "\n",
        "model = Model(inputs=[input_target, input_context], outputs=output)\n",
        "model.compile(optimizer=Adam(), loss='binary_crossentropy', metrics=['accuracy'])\n",
        "\n",
        "model.summary()"
      ]
    },
    {
      "cell_type": "code",
      "execution_count": 4,
      "metadata": {
        "id": "HQAjd3PoBLbv"
      },
      "outputs": [],
      "source": [
        "pairs, labels = skipgrams(sequences, vocabulary_size=vocab_size, window_size=4, negative_samples=4.0, shuffle=True)\n",
        "pairs, labels = np.array(pairs), np.array(labels)"
      ]
    },
    {
      "cell_type": "code",
      "execution_count": null,
      "metadata": {
        "colab": {
          "base_uri": "https://localhost:8080/"
        },
        "id": "C7o7XseXA1So",
        "outputId": "4090f315-7367-4635-c573-593a329ea5ad"
      },
      "outputs": [
        {
          "name": "stdout",
          "output_type": "stream",
          "text": [
            "Epoch 1/10\n",
            "4080/4080 [==============================] - 98s 23ms/step - loss: 0.2706 - accuracy: 0.9091\n",
            "Epoch 2/10\n",
            "4080/4080 [==============================] - 126s 31ms/step - loss: 0.2288 - accuracy: 0.9172\n",
            "Epoch 3/10\n",
            "4080/4080 [==============================] - 93s 23ms/step - loss: 0.2118 - accuracy: 0.9211\n",
            "Epoch 4/10\n",
            "4080/4080 [==============================] - 92s 23ms/step - loss: 0.1901 - accuracy: 0.9261\n",
            "Epoch 5/10\n",
            "4080/4080 [==============================] - 87s 21ms/step - loss: 0.1688 - accuracy: 0.9320\n",
            "Epoch 6/10\n",
            "4080/4080 [==============================] - 92s 22ms/step - loss: 0.1537 - accuracy: 0.9375\n",
            "Epoch 7/10\n",
            "4080/4080 [==============================] - 90s 22ms/step - loss: 0.1447 - accuracy: 0.9409\n",
            "Epoch 8/10\n",
            "4080/4080 [==============================] - 90s 22ms/step - loss: 0.1395 - accuracy: 0.9429\n",
            "Epoch 9/10\n",
            "4080/4080 [==============================] - 92s 23ms/step - loss: 0.1363 - accuracy: 0.9440\n",
            "Epoch 10/10\n",
            "2585/4080 [==================>...........] - ETA: 33s - loss: 0.1303 - accuracy: 0.9460"
          ]
        }
      ],
      "source": [
        "model.fit([pairs[:, 0], pairs[:, 1]], labels, batch_size=1024, epochs=10)"
      ]
    },
    {
      "cell_type": "code",
      "execution_count": 8,
      "metadata": {
        "colab": {
          "base_uri": "https://localhost:8080/"
        },
        "id": "ic0AFk06A3iD",
        "outputId": "3bcc16fc-a0fc-43a8-ce0a-4879ee187af5"
      },
      "outputs": [
        {
          "name": "stdout",
          "output_type": "stream",
          "text": [
            "Final embedding for 'queen': [ 0.10652524  0.7392317  -0.56955934  0.2885857  -0.3367176   0.24935484\n",
            " -0.3921674  -0.1898902  -0.81169575 -0.24792132]\n"
          ]
        }
      ],
      "source": [
        "target_embeddings = model.get_layer('target_embedding').get_weights()[0]\n",
        "context_embeddings = model.get_layer('context_embedding').get_weights()[0]\n",
        "\n",
        "final_word_embeddings = target_embeddings + context_embeddings\n",
        "\n",
        "word = 'queen'\n",
        "word_idx = tokenizer.word_index[word]  \n",
        "final_embedding_vector = final_word_embeddings[word_idx] \n",
        "\n",
        "print(f\"Final embedding for '{word}': {final_embedding_vector[:10]}\")"
      ]
    },
    {
      "cell_type": "code",
      "execution_count": 9,
      "metadata": {
        "colab": {
          "base_uri": "https://localhost:8080/"
        },
        "id": "SbllB67yBbc2",
        "outputId": "b2cf1e7f-a05f-4ff4-81a6-24a2b5d59279"
      },
      "outputs": [
        {
          "name": "stdout",
          "output_type": "stream",
          "text": [
            "Similarity between 'queen' and 'king - man + woman': 0.3834049701690674\n"
          ]
        }
      ],
      "source": [
        "from sklearn.metrics.pairwise import cosine_similarity\n",
        "\n",
        "def get_final_embedding(word, word_embeddings, word_index):\n",
        "    idx = word_index.get(word)\n",
        "    if idx is not None:\n",
        "        return word_embeddings[idx]\n",
        "    else:\n",
        "        return np.zeros((word_embeddings.shape[1],))\n",
        "\n",
        "king_vector = get_final_embedding('king', final_word_embeddings, tokenizer.word_index)\n",
        "man_vector = get_final_embedding('man', final_word_embeddings, tokenizer.word_index)\n",
        "woman_vector = get_final_embedding('woman', final_word_embeddings, tokenizer.word_index)\n",
        "queen_vector = get_final_embedding('queen', final_word_embeddings, tokenizer.word_index)\n",
        "\n",
        "result_vector = king_vector - man_vector + woman_vector\n",
        "\n",
        "queen_vector = queen_vector.reshape(1, -1)\n",
        "result_vector = result_vector.reshape(1, -1)\n",
        "\n",
        "similarity = cosine_similarity(queen_vector, result_vector)\n",
        "\n",
        "print(f\"Similarity between 'queen' and 'king - man + woman': {similarity[0][0]}\")\n"
      ]
    },
    {
      "cell_type": "code",
      "execution_count": 10,
      "metadata": {
        "colab": {
          "base_uri": "https://localhost:8080/",
          "height": 584
        },
        "id": "XIUE4gWNBruu",
        "outputId": "87c955a4-c8d0-4354-ca78-b2e7a27c3408"
      },
      "outputs": [
        {
          "data": {
            "image/png": "[encoded data removed]",
            "text/plain": [
              "<Figure size 800x600 with 1 Axes>"
            ]
          },
          "metadata": {},
          "output_type": "display_data"
        }
      ],
      "source": [
        "from sklearn.decomposition import PCA\n",
        "import matplotlib.pyplot as plt\n",
        "\n",
        "pca = PCA(n_components=2)\n",
        "word_embeddings_2d = pca.fit_transform(final_word_embeddings)\n",
        "\n",
        "\n",
        "def get_word_vector_2d(word):\n",
        "    idx = tokenizer.word_index[word]\n",
        "    return word_embeddings_2d[idx]\n",
        "\n",
        "def plot_difference_vectors(word_pairs):\n",
        "    plt.figure(figsize=(8, 6))\n",
        "\n",
        "    for word1, word2 in word_pairs:\n",
        "        vec1 = get_word_vector_2d(word1)\n",
        "        vec2 = get_word_vector_2d(word2)\n",
        "        diff = vec2 - vec1\n",
        "\n",
        "        plt.arrow(vec1[0], vec1[1], diff[0], diff[1], head_width=0.02, head_length=0.02, length_includes_head=True, color='red')\n",
        "        plt.text(vec1[0], vec1[1], word1)\n",
        "        plt.text(vec2[0], vec2[1], word2)\n",
        "\n",
        "    plt.xlabel('PCA 1')\n",
        "    plt.ylabel('PCA 2')\n",
        "    plt.title('Difference Vectors Visualization')\n",
        "    plt.grid(True)\n",
        "    plt.axis('equal')\n",
        "    plt.show()\n",
        "\n",
        "word_pairs = [('brother', 'sister'), ('uncle', 'aunt')]\n",
        "plot_difference_vectors(word_pairs)\n",
        "\n"
      ]
    }
  ],
  "metadata": {
    "colab": {
      "provenance": []
    },
    "kernelspec": {
      "display_name": "Python 3",
      "name": "python3"
    },
    "language_info": {
      "name": "python"
    }
  },
  "nbformat": 4,
  "nbformat_minor": 0
}
